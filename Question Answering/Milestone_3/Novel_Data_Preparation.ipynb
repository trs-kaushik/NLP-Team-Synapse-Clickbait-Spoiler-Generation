{
 "cells": [
  {
   "cell_type": "code",
   "execution_count": 1,
   "metadata": {
    "colab": {
     "base_uri": "https://localhost:8080/"
    },
    "executionInfo": {
     "elapsed": 21718,
     "status": "ok",
     "timestamp": 1683564172926,
     "user": {
      "displayName": "nlp project",
      "userId": "04066631510195154157"
     },
     "user_tz": 240
    },
    "id": "LNLmo4QJUjOJ",
    "outputId": "7d90dd93-f384-4874-d410-f62459630076"
   },
   "outputs": [
    {
     "name": "stdout",
     "output_type": "stream",
     "text": [
      "Looking in indexes: https://pypi.org/simple, https://us-python.pkg.dev/colab-wheels/public/simple/\n",
      "Collecting transformers\n",
      "  Downloading transformers-4.28.1-py3-none-any.whl (7.0 MB)\n",
      "\u001b[2K     \u001b[90m━━━━━━━━━━━━━━━━━━━━━━━━━━━━━━━━━━━━━━━━\u001b[0m \u001b[32m7.0/7.0 MB\u001b[0m \u001b[31m37.6 MB/s\u001b[0m eta \u001b[36m0:00:00\u001b[0m\n",
      "\u001b[?25hRequirement already satisfied: filelock in /usr/local/lib/python3.10/dist-packages (from transformers) (3.12.0)\n",
      "Requirement already satisfied: numpy>=1.17 in /usr/local/lib/python3.10/dist-packages (from transformers) (1.22.4)\n",
      "Requirement already satisfied: tqdm>=4.27 in /usr/local/lib/python3.10/dist-packages (from transformers) (4.65.0)\n",
      "Requirement already satisfied: packaging>=20.0 in /usr/local/lib/python3.10/dist-packages (from transformers) (23.1)\n",
      "Collecting tokenizers!=0.11.3,<0.14,>=0.11.1\n",
      "  Downloading tokenizers-0.13.3-cp310-cp310-manylinux_2_17_x86_64.manylinux2014_x86_64.whl (7.8 MB)\n",
      "\u001b[2K     \u001b[90m━━━━━━━━━━━━━━━━━━━━━━━━━━━━━━━━━━━━━━━━\u001b[0m \u001b[32m7.8/7.8 MB\u001b[0m \u001b[31m83.7 MB/s\u001b[0m eta \u001b[36m0:00:00\u001b[0m\n",
      "\u001b[?25hRequirement already satisfied: regex!=2019.12.17 in /usr/local/lib/python3.10/dist-packages (from transformers) (2022.10.31)\n",
      "Requirement already satisfied: pyyaml>=5.1 in /usr/local/lib/python3.10/dist-packages (from transformers) (6.0)\n",
      "Collecting huggingface-hub<1.0,>=0.11.0\n",
      "  Downloading huggingface_hub-0.14.1-py3-none-any.whl (224 kB)\n",
      "\u001b[2K     \u001b[90m━━━━━━━━━━━━━━━━━━━━━━━━━━━━━━━━━━━━━━\u001b[0m \u001b[32m224.5/224.5 kB\u001b[0m \u001b[31m20.4 MB/s\u001b[0m eta \u001b[36m0:00:00\u001b[0m\n",
      "\u001b[?25hRequirement already satisfied: requests in /usr/local/lib/python3.10/dist-packages (from transformers) (2.27.1)\n",
      "Requirement already satisfied: fsspec in /usr/local/lib/python3.10/dist-packages (from huggingface-hub<1.0,>=0.11.0->transformers) (2023.4.0)\n",
      "Requirement already satisfied: typing-extensions>=3.7.4.3 in /usr/local/lib/python3.10/dist-packages (from huggingface-hub<1.0,>=0.11.0->transformers) (4.5.0)\n",
      "Requirement already satisfied: urllib3<1.27,>=1.21.1 in /usr/local/lib/python3.10/dist-packages (from requests->transformers) (1.26.15)\n",
      "Requirement already satisfied: idna<4,>=2.5 in /usr/local/lib/python3.10/dist-packages (from requests->transformers) (3.4)\n",
      "Requirement already satisfied: certifi>=2017.4.17 in /usr/local/lib/python3.10/dist-packages (from requests->transformers) (2022.12.7)\n",
      "Requirement already satisfied: charset-normalizer~=2.0.0 in /usr/local/lib/python3.10/dist-packages (from requests->transformers) (2.0.12)\n",
      "Installing collected packages: tokenizers, huggingface-hub, transformers\n",
      "Successfully installed huggingface-hub-0.14.1 tokenizers-0.13.3 transformers-4.28.1\n",
      "Looking in indexes: https://pypi.org/simple, https://us-python.pkg.dev/colab-wheels/public/simple/\n",
      "Requirement already satisfied: torch in /usr/local/lib/python3.10/dist-packages (2.0.0+cu118)\n",
      "Requirement already satisfied: triton==2.0.0 in /usr/local/lib/python3.10/dist-packages (from torch) (2.0.0)\n",
      "Requirement already satisfied: typing-extensions in /usr/local/lib/python3.10/dist-packages (from torch) (4.5.0)\n",
      "Requirement already satisfied: networkx in /usr/local/lib/python3.10/dist-packages (from torch) (3.1)\n",
      "Requirement already satisfied: sympy in /usr/local/lib/python3.10/dist-packages (from torch) (1.11.1)\n",
      "Requirement already satisfied: filelock in /usr/local/lib/python3.10/dist-packages (from torch) (3.12.0)\n",
      "Requirement already satisfied: jinja2 in /usr/local/lib/python3.10/dist-packages (from torch) (3.1.2)\n",
      "Requirement already satisfied: cmake in /usr/local/lib/python3.10/dist-packages (from triton==2.0.0->torch) (3.25.2)\n",
      "Requirement already satisfied: lit in /usr/local/lib/python3.10/dist-packages (from triton==2.0.0->torch) (16.0.2)\n",
      "Requirement already satisfied: MarkupSafe>=2.0 in /usr/local/lib/python3.10/dist-packages (from jinja2->torch) (2.1.2)\n",
      "Requirement already satisfied: mpmath>=0.19 in /usr/local/lib/python3.10/dist-packages (from sympy->torch) (1.3.0)\n"
     ]
    }
   ],
   "source": [
    "!pip install transformers\n",
    "!pip install torch"
   ]
  },
  {
   "cell_type": "code",
   "execution_count": 2,
   "metadata": {
    "colab": {
     "base_uri": "https://localhost:8080/"
    },
    "executionInfo": {
     "elapsed": 4637,
     "status": "ok",
     "timestamp": 1683564177557,
     "user": {
      "displayName": "nlp project",
      "userId": "04066631510195154157"
     },
     "user_tz": 240
    },
    "id": "cGttBbjnUhMU",
    "outputId": "dbf44bc1-aa1a-4420-e37c-8baf5d3b467a"
   },
   "outputs": [
    {
     "name": "stderr",
     "output_type": "stream",
     "text": [
      "[nltk_data] Downloading package maxent_ne_chunker to\n",
      "[nltk_data]     /root/nltk_data...\n",
      "[nltk_data]   Unzipping chunkers/maxent_ne_chunker.zip.\n",
      "[nltk_data] Downloading package words to /root/nltk_data...\n",
      "[nltk_data]   Unzipping corpora/words.zip.\n",
      "[nltk_data] Downloading package averaged_perceptron_tagger to\n",
      "[nltk_data]     /root/nltk_data...\n",
      "[nltk_data]   Unzipping taggers/averaged_perceptron_tagger.zip.\n",
      "[nltk_data] Downloading package wordnet to /root/nltk_data...\n",
      "[nltk_data] Downloading package stopwords to /root/nltk_data...\n",
      "[nltk_data]   Unzipping corpora/stopwords.zip.\n",
      "[nltk_data] Downloading package punkt to /root/nltk_data...\n",
      "[nltk_data]   Unzipping tokenizers/punkt.zip.\n"
     ]
    },
    {
     "data": {
      "text/plain": [
       "True"
      ]
     },
     "execution_count": 2,
     "metadata": {},
     "output_type": "execute_result"
    }
   ],
   "source": [
    "import nltk\n",
    "nltk.download('maxent_ne_chunker')\n",
    "nltk.download('words')\n",
    "nltk.download('averaged_perceptron_tagger')\n",
    "nltk.download('wordnet')\n",
    "nltk.download('stopwords')\n",
    "nltk.download('punkt')"
   ]
  },
  {
   "cell_type": "code",
   "execution_count": 3,
   "metadata": {
    "colab": {
     "base_uri": "https://localhost:8080/"
    },
    "executionInfo": {
     "elapsed": 7622,
     "status": "ok",
     "timestamp": 1683564428554,
     "user": {
      "displayName": "nlp project",
      "userId": "04066631510195154157"
     },
     "user_tz": 240
    },
    "id": "d8PYZl4jUdnu",
    "outputId": "3f615cc3-ae87-49bb-9691-9f418d7b2843"
   },
   "outputs": [
    {
     "name": "stderr",
     "output_type": "stream",
     "text": [
      "[nltk_data] Downloading package wordnet to /root/nltk_data...\n",
      "[nltk_data]   Package wordnet is already up-to-date!\n"
     ]
    }
   ],
   "source": [
    "import torch\n",
    "from transformers import BertTokenizer, BertForQuestionAnswering\n",
    "from transformers import RobertaTokenizer, RobertaForQuestionAnswering\n",
    "from transformers import DebertaTokenizer, DebertaForQuestionAnswering\n",
    "\n",
    "from torch.utils.data import DataLoader, Dataset\n",
    "from torch.nn.utils.rnn import pad_sequence\n",
    "import nltk\n",
    "nltk.download('wordnet')\n",
    "import pandas as pd\n",
    "import logging\n",
    "import warnings\n",
    "from textblob import TextBlob\n",
    "import nltk\n",
    "from nltk.tokenize import word_tokenize\n",
    "from nltk.corpus import stopwords\n",
    "from nltk.stem import WordNetLemmatizer\n",
    "from nltk import pos_tag, ne_chunk\n",
    "from nltk.corpus import wordnet\n"
   ]
  },
  {
   "cell_type": "code",
   "execution_count": 4,
   "metadata": {
    "colab": {
     "base_uri": "https://localhost:8080/"
    },
    "executionInfo": {
     "elapsed": 18548,
     "status": "ok",
     "timestamp": 1683564447098,
     "user": {
      "displayName": "nlp project",
      "userId": "04066631510195154157"
     },
     "user_tz": 240
    },
    "id": "qzekt6VZUKBR",
    "outputId": "9dac763e-1492-4c1d-db81-779fd0c65b8e"
   },
   "outputs": [
    {
     "name": "stdout",
     "output_type": "stream",
     "text": [
      "Mounted at /content/gdrive\n"
     ]
    }
   ],
   "source": [
    "from google.colab import drive\n",
    "drive.mount('/content/gdrive')"
   ]
  },
  {
   "cell_type": "code",
   "execution_count": 5,
   "metadata": {
    "executionInfo": {
     "elapsed": 4,
     "status": "ok",
     "timestamp": 1683564447098,
     "user": {
      "displayName": "nlp project",
      "userId": "04066631510195154157"
     },
     "user_tz": 240
    },
    "id": "5-4dq3tPUOfJ"
   },
   "outputs": [],
   "source": [
    "def sentiment(text):\n",
    "  sentiment_polarity = TextBlob(text).sentiment.polarity\n",
    "  if sentiment_polarity > 0:\n",
    "    sentiment = \"Positive\"\n",
    "  elif sentiment_polarity < 0:\n",
    "    sentiment = \"Negative\"\n",
    "  else:\n",
    "    sentiment = \"Neutral\"\n",
    "  return sentiment\n",
    "\n",
    "def generate_NER(paragraph, call_flag):\n",
    "\n",
    "  words = word_tokenize(paragraph)\n",
    "\n",
    "  stop_words = set(stopwords.words('english'))\n",
    "  filtered_words = [word for word in words if word.lower() not in stop_words]\n",
    "\n",
    "  lemmatizer = WordNetLemmatizer()\n",
    "  lemmatized_words = [lemmatizer.lemmatize(word) for word in filtered_words]\n",
    "\n",
    "  pos_tags = pos_tag(lemmatized_words)\n",
    "\n",
    "  ner_tags = ne_chunk(pos_tags)\n",
    "\n",
    "  keywords = []\n",
    "  entities = []\n",
    "\n",
    "  for chunk in ner_tags:\n",
    "      if hasattr(chunk, 'label') and chunk.label() == 'PERSON':\n",
    "          entities.append(' '.join(c[0] for c in chunk))\n",
    "      elif hasattr(chunk, 'label') and chunk.label() == 'ORGANIZATION':\n",
    "          entities.append(' '.join(c[0] for c in chunk))\n",
    "      elif hasattr(chunk, 'label') and chunk.label() == 'LOCATION':\n",
    "          entities.append(' '.join(c[0] for c in chunk))\n",
    "      else:\n",
    "          keywords.append(chunk[0])\n",
    "\n",
    "  if call_flag == 'NER':\n",
    "    return \", \".join(entities).lower()\n",
    "  else:\n",
    "    return keywords\n",
    "\n",
    "def query_reformulation(query):\n",
    "    new_query = []\n",
    "    keywords = generate_NER(query, \"Synset\")\n",
    "    for term in query.split():\n",
    "        if term in keywords:\n",
    "          synonyms = []\n",
    "          for syn in wordnet.synsets(term):\n",
    "              for lemma in syn.lemmas():\n",
    "                  synonyms.append(lemma.name())\n",
    "          if synonyms:\n",
    "              new_query.append(synonyms[0])\n",
    "          else:\n",
    "              new_query.append(term)\n",
    "        else:\n",
    "          new_query.append(term)\n",
    "    return \" \".join(new_query)\n",
    "\n",
    "def load_dataset(file_name):\n",
    "    import pandas as pd\n",
    "    import json\n",
    "    \n",
    "    df = []\n",
    "    with open('/content/' + file_name,encoding=\"utf-8\") as f:\n",
    "        for i in f:\n",
    "            i = json.loads(i)\n",
    "            uuid = i['uuid']\n",
    "            post_text = i['postText']\n",
    "            article_title = i['targetTitle'].replace(\"\\'\",\"\").lower().replace(\".\",\"\")\n",
    "            article = '. '.join(i['targetParagraphs']).replace('\\\"','').lower().replace(\"\\'\",\"\").replace(\".\",\"\")\n",
    "            \n",
    "            article_description = i['targetDescription']\n",
    "            if article_description is None:\n",
    "              article_description = \" \"\n",
    "            article_description = article_description.lower().replace(\"\\'\",\"\").replace(\".\",\"\")\n",
    "\n",
    "            article_keywords = i['targetKeywords']\n",
    "            if article_keywords is None or ',' or '&nbsp':\n",
    "              article_keywords = generate_NER(article,\"NER\")\n",
    "            article_keywords = article_keywords.lower().replace(\"\\'\",\"\").replace(\".\",\"\")\n",
    "\n",
    "            spoiler = i['spoiler']\n",
    "            spoiler = spoiler[0].replace('\\\"','').lower().replace(\"\\'\",\"\").replace(\".\",\"\")\n",
    "\n",
    "            label = i['tags']\n",
    "            label = label[0]\n",
    "\n",
    "            post_text = post_text[0].lower().replace(\"\\'\",\"\").replace(\".\",\"\")\n",
    "            post_text = post_text + \". \" + query_reformulation(post_text)\n",
    "            \n",
    "            sentiment_val =  sentiment(post_text)\n",
    "\n",
    "            if label == 'multi':\n",
    "              continue\n",
    "            \n",
    "            if str(uuid).replace(\"-\",\"\").isalnum() == False:\n",
    "              continue\n",
    "\n",
    "            try:\n",
    "              temp_article = \"Question - \" + post_text + \"\\n\" + \\\n",
    "                    \"Question_Sentiment - \" + sentiment_val + \"\\n\" +\\\n",
    "                    \"Article_Keyword - \" + article_keywords + \"\\n\"  + \\\n",
    "                    \"Article_Title - \" + article_title + \"\\n\" + \\\n",
    "                    \"Article - \" + article + \"\\n\" + \\\n",
    "                    \"Label Type - \" + label \n",
    "\n",
    "              t = temp_article.index(spoiler)\n",
    "            except:\n",
    "              print(temp_article)\n",
    "              print(spoiler)\n",
    "\n",
    "            df += [{#'clickbait_tweet': tweet,\n",
    "                    'target_paragraphs': \n",
    "                    \"Question - \" + post_text + \"\\n\" + \\\n",
    "                    \"Question_Sentiment - \" + sentiment_val + \"\\n\" +\\\n",
    "                    \"Article_Keyword - \" + article_keywords + \"\\n\"  + \\\n",
    "                    \"Article_Title - \" + article_title + \"\\n\" + \\\n",
    "                    \"Article - \" + article + \"\\n\" + \\\n",
    "                    \"Label Type - \" + label ,\n",
    "                    'spoiler': spoiler,\n",
    "                    'label': label}]\n",
    "\n",
    "            data = pd.DataFrame(df)\n",
    "\n",
    "    return data"
   ]
  },
  {
   "cell_type": "code",
   "execution_count": 6,
   "metadata": {
    "executionInfo": {
     "elapsed": 465943,
     "status": "ok",
     "timestamp": 1683564913604,
     "user": {
      "displayName": "nlp project",
      "userId": "04066631510195154157"
     },
     "user_tz": 240
    },
    "id": "n2QI5XvJUXSy"
   },
   "outputs": [],
   "source": [
    "train_dataset = load_dataset('train.jsonl')\n",
    "validation_dataset = load_dataset('validation.jsonl') \n",
    "\n",
    "train_dataset.to_csv('processed_training_dataset.csv')\n",
    "validation_dataset.to_csv('processed_validation_dataset.csv')"
   ]
  },
  {
   "cell_type": "code",
   "execution_count": 11,
   "metadata": {
    "colab": {
     "base_uri": "https://localhost:8080/"
    },
    "executionInfo": {
     "elapsed": 348,
     "status": "ok",
     "timestamp": 1683565431013,
     "user": {
      "displayName": "nlp project",
      "userId": "04066631510195154157"
     },
     "user_tz": 240
    },
    "id": "IQ2sYr81WG16",
    "outputId": "c8b31149-c661-402e-a6d3-f332beeb6e0b"
   },
   "outputs": [
    {
     "name": "stdout",
     "output_type": "stream",
     "text": [
      "cp: cannot stat 'processed_train_dataset.csv': No such file or directory\n"
     ]
    }
   ],
   "source": [
    "!cp processed_training_dataset.csv \"/content/gdrive/My Drive/\"\n",
    "!cp processed_validation_dataset.csv \"/content/gdrive/My Drive/\""
   ]
  },
  {
   "cell_type": "code",
   "execution_count": null,
   "metadata": {
    "id": "J_RdW46eahq9"
   },
   "outputs": [],
   "source": []
  }
 ],
 "metadata": {
  "colab": {
   "authorship_tag": "ABX9TyNP01lEtdaWJttN82Y+GXhB",
   "provenance": []
  },
  "kernelspec": {
   "display_name": "Python 3 (ipykernel)",
   "language": "python",
   "name": "python3"
  },
  "language_info": {
   "codemirror_mode": {
    "name": "ipython",
    "version": 3
   },
   "file_extension": ".py",
   "mimetype": "text/x-python",
   "name": "python",
   "nbconvert_exporter": "python",
   "pygments_lexer": "ipython3",
   "version": "3.9.12"
  }
 },
 "nbformat": 4,
 "nbformat_minor": 1
}
